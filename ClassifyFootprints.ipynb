{
 "cells": [
  {
   "cell_type": "code",
   "execution_count": 26,
   "id": "dbd3f353-2b10-4707-94ad-df8f27dbbd03",
   "metadata": {
    "tags": [
     "parameters"
    ]
   },
   "outputs": [],
   "source": [
    "INPUTS = ['production/puri/input', 'production/puri/modeloutput/simplified']\n",
    "OUTPUT = 'production/puri/modeloutput/rooftype'\n",
    "REGION = 'puri'\n",
    "MODELNAME = 'inceptionv3'\n",
    "CHECKPOINT = 'rooftypeclassification'\n",
    "SIZE = 299"
   ]
  },
  {
   "cell_type": "code",
   "execution_count": 2,
   "id": "6e8d88f7-941a-4ae0-b36c-415852ca65c8",
   "metadata": {},
   "outputs": [],
   "source": [
    "import warnings\n",
    "warnings.filterwarnings('ignore')"
   ]
  },
  {
   "cell_type": "code",
   "execution_count": 5,
   "id": "0408a96e-fd38-4a3b-8324-a0c5847ee48a",
   "metadata": {},
   "outputs": [],
   "source": [
    "import argparse\n",
    "import rasterio as rio\n",
    "from rasterio.mask import mask\n",
    "\n",
    "import geopandas as gpd\n",
    "import geojson\n",
    "\n",
    "import numpy as np\n",
    "import torch\n",
    "import torch.nn as nn\n",
    "import torch.distributed as dist\n",
    "\n",
    "\n",
    "from skimage import io\n",
    "from scipy import ndimage as ndi\n",
    "import cv2\n",
    "\n",
    "from tqdm import tqdm\n",
    "from pathlib import Path\n",
    "import os\n",
    "import sys \n",
    "\n",
    "sys.path.append('nn/')\n",
    "from classifier import Classifier\n",
    "from azureml.core.model import Model"
   ]
  },
  {
   "cell_type": "code",
   "execution_count": 8,
   "id": "b65eb2d1-1de0-4e30-9e0d-848bc73bc31a",
   "metadata": {},
   "outputs": [],
   "source": [
    "CHECKPOINT: 'checkpoints/rooftypeclassification'"
   ]
  },
  {
   "cell_type": "code",
   "execution_count": 9,
   "id": "26fff1c9-cddb-48c7-85c4-65a0811c102f",
   "metadata": {},
   "outputs": [
    {
     "name": "stdout",
     "output_type": "stream",
     "text": [
      "Loading Checkpoint from rooftypeclassification\n",
      "Loaded Checkpoint from: rooftypeclassification,                 with epoch 92 and best score 80.36363636363636\n"
     ]
    }
   ],
   "source": [
    "model = Classifier(name=MODELNAME, num_classes=7)\n",
    "model = nn.DataParallel(model)\n",
    "\n",
    "# if torch.cuda.is_available():\n",
    "#     model = model.cuda()\n",
    "    \n",
    "device = torch.device(\"cuda:0\" if torch.cuda.is_available() else \"cpu\")\n",
    "model = model.to(device)\n",
    "\n",
    "\n",
    "#load model checkpoint\n",
    "best_score = 0\n",
    "start_epoch = 0\n",
    "#checkpoint_path = Path(Model.get_model_path(CHECKPOINT, version=2))\n",
    "checkpoint_path = Path('checkpoints/rooftypeclassification')\n",
    "if checkpoint_path.exists():\n",
    "    print(f'Loading Checkpoint from {CHECKPOINT}')\n",
    "    checkpoint = torch.load(str(checkpoint_path), map_location='cpu')\n",
    "    loaded_dict = checkpoint['state_dict']\n",
    "    state_dict = model.state_dict() \n",
    "    for key in state_dict:\n",
    "        if key in loaded_dict:\n",
    "            state_dict[key] = loaded_dict[key]\n",
    "\n",
    "    model.load_state_dict(state_dict)\n",
    "    start_epoch = checkpoint['epoch']\n",
    "    best_score = checkpoint['best_score']\n",
    "\n",
    "    print(f'Loaded Checkpoint from: {CHECKPOINT}, \\\n",
    "                with epoch {start_epoch} and best score {best_score}')"
   ]
  },
  {
   "cell_type": "code",
   "execution_count": 14,
   "id": "61446380-f7a8-4aa6-8bad-12767152a0cc",
   "metadata": {},
   "outputs": [],
   "source": [
    "RASTER = Path(INPUTS[0])\n",
    "VECTOR = Path(INPUTS[1])\n",
    "#OUTPUT = Path(OUTPUT)"
   ]
  },
  {
   "cell_type": "markdown",
   "id": "1920f92e-b6e1-446c-83a5-44c973134dc8",
   "metadata": {},
   "source": [
    "# Read Simplified Footrprints"
   ]
  },
  {
   "cell_type": "code",
   "execution_count": 15,
   "id": "a4ee9298-0efa-4706-858b-dfd16d646aa9",
   "metadata": {},
   "outputs": [
    {
     "name": "stdout",
     "output_type": "stream",
     "text": [
      "Reading simplified footprints from production/puri/modeloutput/simplified/puri_simplified_footprints_from_model.geojson\n"
     ]
    }
   ],
   "source": [
    "footprints_file = f'{VECTOR}/{REGION}_simplified_footprints_from_model.geojson'\n",
    "print(f'Reading simplified footprints from {footprints_file}')\n",
    "footprints = gpd.read_file(f'{footprints_file}').to_crs(4326)"
   ]
  },
  {
   "cell_type": "code",
   "execution_count": 16,
   "id": "0b08e129-afb2-4c45-b7b8-0d653af9b02d",
   "metadata": {},
   "outputs": [
    {
     "data": {
      "text/html": [
       "<div>\n",
       "<style scoped>\n",
       "    .dataframe tbody tr th:only-of-type {\n",
       "        vertical-align: middle;\n",
       "    }\n",
       "\n",
       "    .dataframe tbody tr th {\n",
       "        vertical-align: top;\n",
       "    }\n",
       "\n",
       "    .dataframe thead th {\n",
       "        text-align: right;\n",
       "    }\n",
       "</style>\n",
       "<table border=\"1\" class=\"dataframe\">\n",
       "  <thead>\n",
       "    <tr style=\"text-align: right;\">\n",
       "      <th></th>\n",
       "      <th>geometry</th>\n",
       "    </tr>\n",
       "  </thead>\n",
       "  <tbody>\n",
       "    <tr>\n",
       "      <th>0</th>\n",
       "      <td>POLYGON ((85.80406 19.79352, 85.80406 19.79352...</td>\n",
       "    </tr>\n",
       "    <tr>\n",
       "      <th>1</th>\n",
       "      <td>POLYGON ((85.80194 19.79276, 85.80195 19.79276...</td>\n",
       "    </tr>\n",
       "    <tr>\n",
       "      <th>2</th>\n",
       "      <td>POLYGON ((85.80227 19.79280, 85.80227 19.79280...</td>\n",
       "    </tr>\n",
       "    <tr>\n",
       "      <th>3</th>\n",
       "      <td>POLYGON ((85.80213 19.79275, 85.80214 19.79275...</td>\n",
       "    </tr>\n",
       "    <tr>\n",
       "      <th>4</th>\n",
       "      <td>POLYGON ((85.80251 19.79264, 85.80251 19.79261...</td>\n",
       "    </tr>\n",
       "  </tbody>\n",
       "</table>\n",
       "</div>"
      ],
      "text/plain": [
       "                                            geometry\n",
       "0  POLYGON ((85.80406 19.79352, 85.80406 19.79352...\n",
       "1  POLYGON ((85.80194 19.79276, 85.80195 19.79276...\n",
       "2  POLYGON ((85.80227 19.79280, 85.80227 19.79280...\n",
       "3  POLYGON ((85.80213 19.79275, 85.80214 19.79275...\n",
       "4  POLYGON ((85.80251 19.79264, 85.80251 19.79261..."
      ]
     },
     "execution_count": 16,
     "metadata": {},
     "output_type": "execute_result"
    }
   ],
   "source": [
    "footprints.head()"
   ]
  },
  {
   "cell_type": "code",
   "execution_count": 17,
   "id": "e8c50ef0-efe2-4858-b61e-ea315097469b",
   "metadata": {},
   "outputs": [
    {
     "data": {
      "text/plain": [
       "<bound method DataFrame.info of                                                 geometry\n",
       "0      POLYGON ((85.80406 19.79352, 85.80406 19.79352...\n",
       "1      POLYGON ((85.80194 19.79276, 85.80195 19.79276...\n",
       "2      POLYGON ((85.80227 19.79280, 85.80227 19.79280...\n",
       "3      POLYGON ((85.80213 19.79275, 85.80214 19.79275...\n",
       "4      POLYGON ((85.80251 19.79264, 85.80251 19.79261...\n",
       "...                                                  ...\n",
       "23520  POLYGON ((85.82890 19.81843, 85.82891 19.81843...\n",
       "23521  POLYGON ((85.82923 19.81846, 85.82923 19.81846...\n",
       "23522  POLYGON ((85.82948 19.81846, 85.82948 19.81846...\n",
       "23523  POLYGON ((85.82897 19.81843, 85.82897 19.81843...\n",
       "23524  POLYGON ((85.82910 19.81843, 85.82910 19.81843...\n",
       "\n",
       "[23525 rows x 1 columns]>"
      ]
     },
     "execution_count": 17,
     "metadata": {},
     "output_type": "execute_result"
    }
   ],
   "source": [
    "footprints.info"
   ]
  },
  {
   "cell_type": "markdown",
   "id": "3f71740c-006c-4c0a-94d4-5a242bad55b5",
   "metadata": {},
   "source": [
    "# Roof Type Prediction"
   ]
  },
  {
   "cell_type": "code",
   "execution_count": 18,
   "id": "94f43a21-8c0b-4e4e-be79-356c582c06e1",
   "metadata": {},
   "outputs": [],
   "source": [
    "mean = [0.485, 0.456, 0.406]\n",
    "std = [0.229, 0.224, 0.225]\n",
    "\n",
    "#mapping the model output to rooft type id defined \n",
    "#for ex in model RCC is predicted as 3 but RCC id defined is 1(in phase 1)\n",
    "dt_mapping = {\n",
    "    0 : '2' ,\n",
    "    1 : '3',\n",
    "    2 : '4',\n",
    "    3 : '1',\n",
    "    4 : '7',\n",
    "    5 : '5',\n",
    "    6 : '6'\n",
    "}"
   ]
  },
  {
   "cell_type": "code",
   "execution_count": 19,
   "id": "bae07b0c-1e96-465e-b1df-86a19dc800e3",
   "metadata": {},
   "outputs": [
    {
     "name": "stdout",
     "output_type": "stream",
     "text": [
      "Predicting roof type\n"
     ]
    }
   ],
   "source": [
    "print('Predicting roof type')\n",
    "model.eval()\n",
    "building_dwell_type = []\n",
    "# for all the input files\n",
    "for raster_file in RASTER.glob('*.tif'):\n",
    "    with rio.open(raster_file) as rf:\n",
    "        for idx, footprint in footprints.iterrows():\n",
    "            try:\n",
    "                #crop the building from source image\n",
    "                building, building_transform = mask(rf, shapes=[footprint.geometry], \n",
    "                                                    crop=True)\n",
    "                _building = building.copy()\n",
    "                \n",
    "                #resize and normalise the data\n",
    "                _building = np.transpose(_building, (1, 2, 0))\n",
    "                _building = cv2.resize(_building, (SIZE, SIZE), \n",
    "                                           interpolation=cv2.INTER_NEAREST)\n",
    "                _building = np.asarray(_building, dtype='float32') / 255\n",
    "                for i in range(3):\n",
    "                    _building[..., i] = (_building[..., i] - mean[i]) / std[i]\n",
    "                _building = torch.from_numpy(_building.transpose((2, 0, 1)).copy()).float()\n",
    "                _building = _building.unsqueeze(0)\n",
    "                \n",
    "                #run prediction\n",
    "                with torch.no_grad():\n",
    "                    output = model(_building).cpu().detach().numpy()\n",
    "                    label = np.argmax(output)\n",
    "                    dwell_type = dt_mapping[label]\n",
    "\n",
    "                    building_dwell_type.append({\n",
    "                        'geometry': footprint.geometry,\n",
    "                        'label': dwell_type\n",
    "                    })\n",
    "                    \n",
    "            except Exception as e:\n",
    "                continue\n",
    "                \n",
    "            "
   ]
  },
  {
   "cell_type": "markdown",
   "id": "5e0da9a6-79e2-4b81-8bdf-c96581a0b034",
   "metadata": {},
   "source": [
    "# Check Results"
   ]
  },
  {
   "cell_type": "code",
   "execution_count": 20,
   "id": "e00feae2-5220-4174-89f6-90638dc326ce",
   "metadata": {},
   "outputs": [
    {
     "data": {
      "text/plain": [
       "24947"
      ]
     },
     "execution_count": 20,
     "metadata": {},
     "output_type": "execute_result"
    }
   ],
   "source": [
    "len(building_dwell_type)"
   ]
  },
  {
   "cell_type": "code",
   "execution_count": 21,
   "id": "e4b637ea-265f-4264-b5ff-44c8e82f6ca1",
   "metadata": {},
   "outputs": [],
   "source": [
    "bdt_gdf = gpd.GeoDataFrame(building_dwell_type)"
   ]
  },
  {
   "cell_type": "code",
   "execution_count": 22,
   "id": "546091f0-5c28-4750-b5d6-ea57ac282312",
   "metadata": {},
   "outputs": [
    {
     "data": {
      "text/html": [
       "<div>\n",
       "<style scoped>\n",
       "    .dataframe tbody tr th:only-of-type {\n",
       "        vertical-align: middle;\n",
       "    }\n",
       "\n",
       "    .dataframe tbody tr th {\n",
       "        vertical-align: top;\n",
       "    }\n",
       "\n",
       "    .dataframe thead th {\n",
       "        text-align: right;\n",
       "    }\n",
       "</style>\n",
       "<table border=\"1\" class=\"dataframe\">\n",
       "  <thead>\n",
       "    <tr style=\"text-align: right;\">\n",
       "      <th></th>\n",
       "      <th>geometry</th>\n",
       "      <th>label</th>\n",
       "    </tr>\n",
       "  </thead>\n",
       "  <tbody>\n",
       "    <tr>\n",
       "      <th>0</th>\n",
       "      <td>POLYGON ((85.80406 19.79352, 85.80406 19.79352...</td>\n",
       "      <td>1</td>\n",
       "    </tr>\n",
       "    <tr>\n",
       "      <th>1</th>\n",
       "      <td>POLYGON ((85.80194 19.79276, 85.80195 19.79276...</td>\n",
       "      <td>1</td>\n",
       "    </tr>\n",
       "    <tr>\n",
       "      <th>2</th>\n",
       "      <td>POLYGON ((85.80227 19.79280, 85.80227 19.79280...</td>\n",
       "      <td>1</td>\n",
       "    </tr>\n",
       "    <tr>\n",
       "      <th>3</th>\n",
       "      <td>POLYGON ((85.80213 19.79275, 85.80214 19.79275...</td>\n",
       "      <td>1</td>\n",
       "    </tr>\n",
       "    <tr>\n",
       "      <th>4</th>\n",
       "      <td>POLYGON ((85.80251 19.79264, 85.80251 19.79261...</td>\n",
       "      <td>1</td>\n",
       "    </tr>\n",
       "  </tbody>\n",
       "</table>\n",
       "</div>"
      ],
      "text/plain": [
       "                                            geometry label\n",
       "0  POLYGON ((85.80406 19.79352, 85.80406 19.79352...     1\n",
       "1  POLYGON ((85.80194 19.79276, 85.80195 19.79276...     1\n",
       "2  POLYGON ((85.80227 19.79280, 85.80227 19.79280...     1\n",
       "3  POLYGON ((85.80213 19.79275, 85.80214 19.79275...     1\n",
       "4  POLYGON ((85.80251 19.79264, 85.80251 19.79261...     1"
      ]
     },
     "execution_count": 22,
     "metadata": {},
     "output_type": "execute_result"
    }
   ],
   "source": [
    "bdt_gdf.head()"
   ]
  },
  {
   "cell_type": "code",
   "execution_count": 23,
   "id": "81b8d896-11e8-455b-b974-482a6b3d58cd",
   "metadata": {},
   "outputs": [
    {
     "data": {
      "text/html": [
       "<div>\n",
       "<style scoped>\n",
       "    .dataframe tbody tr th:only-of-type {\n",
       "        vertical-align: middle;\n",
       "    }\n",
       "\n",
       "    .dataframe tbody tr th {\n",
       "        vertical-align: top;\n",
       "    }\n",
       "\n",
       "    .dataframe thead tr th {\n",
       "        text-align: left;\n",
       "    }\n",
       "\n",
       "    .dataframe thead tr:last-of-type th {\n",
       "        text-align: right;\n",
       "    }\n",
       "</style>\n",
       "<table border=\"1\" class=\"dataframe\">\n",
       "  <thead>\n",
       "    <tr>\n",
       "      <th></th>\n",
       "      <th>geometry</th>\n",
       "    </tr>\n",
       "    <tr>\n",
       "      <th></th>\n",
       "      <th>count</th>\n",
       "    </tr>\n",
       "    <tr>\n",
       "      <th>label</th>\n",
       "      <th></th>\n",
       "    </tr>\n",
       "  </thead>\n",
       "  <tbody>\n",
       "    <tr>\n",
       "      <th>1</th>\n",
       "      <td>20742</td>\n",
       "    </tr>\n",
       "    <tr>\n",
       "      <th>2</th>\n",
       "      <td>145</td>\n",
       "    </tr>\n",
       "    <tr>\n",
       "      <th>3</th>\n",
       "      <td>1320</td>\n",
       "    </tr>\n",
       "    <tr>\n",
       "      <th>4</th>\n",
       "      <td>3</td>\n",
       "    </tr>\n",
       "    <tr>\n",
       "      <th>5</th>\n",
       "      <td>210</td>\n",
       "    </tr>\n",
       "    <tr>\n",
       "      <th>6</th>\n",
       "      <td>1</td>\n",
       "    </tr>\n",
       "    <tr>\n",
       "      <th>7</th>\n",
       "      <td>2526</td>\n",
       "    </tr>\n",
       "  </tbody>\n",
       "</table>\n",
       "</div>"
      ],
      "text/plain": [
       "      geometry\n",
       "         count\n",
       "label         \n",
       "1        20742\n",
       "2          145\n",
       "3         1320\n",
       "4            3\n",
       "5          210\n",
       "6            1\n",
       "7         2526"
      ]
     },
     "execution_count": 23,
     "metadata": {},
     "output_type": "execute_result"
    }
   ],
   "source": [
    "bdt_gdf.groupby(['label']).agg(['count'])"
   ]
  },
  {
   "cell_type": "markdown",
   "id": "b9e0d901-de5e-4643-9f94-e8c3a9cb861d",
   "metadata": {},
   "source": [
    "# Save the Footprints"
   ]
  },
  {
   "cell_type": "code",
   "execution_count": 27,
   "id": "f086fd53-b437-4d53-b5ca-01f097750da9",
   "metadata": {},
   "outputs": [
    {
     "data": {
      "text/plain": [
       "'production/puri/modeloutput/rooftype'"
      ]
     },
     "execution_count": 27,
     "metadata": {},
     "output_type": "execute_result"
    }
   ],
   "source": [
    "OUTPUT"
   ]
  },
  {
   "cell_type": "code",
   "execution_count": 29,
   "id": "4cb3da30-4115-46d3-a498-9a9e03cb239e",
   "metadata": {},
   "outputs": [
    {
     "name": "stdout",
     "output_type": "stream",
     "text": [
      "Saving the footprints\n"
     ]
    }
   ],
   "source": [
    "print(f'Saving the footprints')\n",
    "bdt_gdf.to_file(f'{OUTPUT}/{REGION}_footprints.geojson', driver='GeoJSON')"
   ]
  },
  {
   "cell_type": "code",
   "execution_count": null,
   "id": "8862d832-2f57-41d5-8fea-c29e9fbdbdf8",
   "metadata": {},
   "outputs": [],
   "source": []
  }
 ],
 "metadata": {
  "kernelspec": {
   "display_name": "Python 3 (ipykernel)",
   "language": "python",
   "name": "python3"
  },
  "language_info": {
   "codemirror_mode": {
    "name": "ipython",
    "version": 3
   },
   "file_extension": ".py",
   "mimetype": "text/x-python",
   "name": "python",
   "nbconvert_exporter": "python",
   "pygments_lexer": "ipython3",
   "version": "3.8.13"
  }
 },
 "nbformat": 4,
 "nbformat_minor": 5
}
