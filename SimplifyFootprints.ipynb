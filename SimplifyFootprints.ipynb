{
 "cells": [
  {
   "cell_type": "code",
   "execution_count": 1,
   "id": "3714fd83-2da7-4f02-820f-47ff170a6b1c",
   "metadata": {
    "tags": [
     "parameters"
    ]
   },
   "outputs": [],
   "source": [
    "INPUTS = ['production/puri/modeloutput/footprints/']\n",
    "OUTPUT = 'production/puri/modeloutput/simplified'\n",
    "REGION = 'puri'\n",
    "UTM = 32645"
   ]
  },
  {
   "cell_type": "code",
   "execution_count": 2,
   "id": "bd9633c5-5fe3-4e4b-bed7-bf012e34b008",
   "metadata": {},
   "outputs": [],
   "source": [
    "import warnings\n",
    "warnings.filterwarnings('ignore')"
   ]
  },
  {
   "cell_type": "code",
   "execution_count": 3,
   "id": "5c90e86f-5328-4657-897e-bb4e5e042d07",
   "metadata": {},
   "outputs": [],
   "source": [
    "import collections\n",
    "import pandas as pd\n",
    "import geopandas as gpd\n",
    "import geojson\n",
    "import functools \n",
    "import shapely\n",
    "import sys\n",
    "import warnings\n",
    "\n",
    "\n",
    "from pathlib import Path\n",
    "from pysal.lib import weights\n",
    "from tqdm import tqdm\n",
    "import argparse"
   ]
  },
  {
   "cell_type": "code",
   "execution_count": 4,
   "id": "b0971dde-db47-4c8f-82e8-7368a5d6b039",
   "metadata": {},
   "outputs": [],
   "source": [
    "OUTPUT = Path(OUTPUT)\n",
    "INPUT = Path(INPUTS[0])"
   ]
  },
  {
   "cell_type": "code",
   "execution_count": 5,
   "id": "f31e4979-d613-4216-8680-884c7287279f",
   "metadata": {},
   "outputs": [
    {
     "name": "stdout",
     "output_type": "stream",
     "text": [
      "Reading footprints from production/puri/modeloutput/footprints/puri_footprints_from_model.geojson\n"
     ]
    }
   ],
   "source": [
    "#Reading footprints from geojson\n",
    "footprints_file = f'{INPUT}/{REGION}_footprints_from_model.geojson'\n",
    "print(f'Reading footprints from {footprints_file}')\n",
    "footprints = gpd.read_file(footprints_file).to_crs(epsg=UTM)"
   ]
  },
  {
   "cell_type": "markdown",
   "id": "d2d56726-6ac2-4c8d-bede-7cb538341aa2",
   "metadata": {},
   "source": [
    "# 3.1 Create a Graph to Merge Intersecting Buildings"
   ]
  },
  {
   "cell_type": "code",
   "execution_count": 6,
   "id": "944d96e8-73e2-4c71-af21-15cc7a17abb7",
   "metadata": {},
   "outputs": [],
   "source": [
    "# Compute the weight matrix, considering the distance between the polygons\n",
    "w = weights.DistanceBand.from_dataframe(footprints, 150)\n"
   ]
  },
  {
   "cell_type": "code",
   "execution_count": 7,
   "id": "9e04274e-469d-436a-a305-d4e8ecc8aed2",
   "metadata": {},
   "outputs": [],
   "source": [
    "class UndirectedGraph:\n",
    "    \"\"\"Simple undirected graph.\n",
    "    Note: stores edges; can not store vertices without edges.\n",
    "    \"\"\"\n",
    "\n",
    "    def __init__(self):\n",
    "        \"\"\"Creates an empty `UndirectedGraph` instance.\n",
    "        \"\"\"\n",
    "\n",
    "        # Todo: We might need a compressed sparse row graph (i.e. adjacency array)\n",
    "        # to make this scale. Let's circle back when we run into this limitation.\n",
    "        self.edges = collections.defaultdict(set)\n",
    "\n",
    "    def add_edge(self, s, t):\n",
    "        \"\"\"Adds an edge to the graph.\n",
    "        Args:\n",
    "          s: the source vertex.\n",
    "          t: the target vertex.\n",
    "        Note: because this is an undirected graph for every edge `s, t` an edge `t, s` is added.\n",
    "        \"\"\"\n",
    "\n",
    "        self.edges[s].add(t)\n",
    "        self.edges[t].add(s)\n",
    "\n",
    "    def targets(self, v):\n",
    "        \"\"\"Returns all outgoing targets for a vertex.\n",
    "        Args:\n",
    "          v: the vertex to return targets for.\n",
    "        Returns:\n",
    "          A list of all outgoing targets for the vertex.\n",
    "        \"\"\"\n",
    "\n",
    "        return self.edges[v]\n",
    "\n",
    "    def vertices(self):\n",
    "        \"\"\"Returns all vertices in the graph.\n",
    "        Returns:\n",
    "          A set of all vertices in the graph.\n",
    "        \"\"\"\n",
    "\n",
    "        return self.edges.keys()\n",
    "\n",
    "    def empty(self):\n",
    "        \"\"\"Returns true if the graph is empty, false otherwise.\n",
    "        Returns:\n",
    "          True if the graph has no edges or vertices, false otherwise.\n",
    "        \"\"\"\n",
    "        return len(self.edges) == 0\n",
    "\n",
    "    def dfs(self, v):\n",
    "        \"\"\"Applies a depth-first search to the graph.\n",
    "        Args:\n",
    "          v: the vertex to start the depth-first search at.\n",
    "        Yields:\n",
    "          The visited graph vertices in depth-first search order.\n",
    "        Note: does not include the start vertex `v` (except if an edge targets it).\n",
    "        \"\"\"\n",
    "\n",
    "        stack = []\n",
    "        stack.append(v)\n",
    "\n",
    "        seen = set()\n",
    "\n",
    "        while stack:\n",
    "            s = stack.pop()\n",
    "\n",
    "            if s not in seen:\n",
    "                seen.add(s)\n",
    "\n",
    "                for t in self.targets(s):\n",
    "                    stack.append(t)\n",
    "\n",
    "                yield s\n",
    "\n",
    "    def components(self):\n",
    "        \"\"\"Computes connected components for the graph.\n",
    "        Yields:\n",
    "          The connected component sub-graphs consisting of vertices; in no particular order.\n",
    "        \"\"\"\n",
    "\n",
    "        seen = set()\n",
    "\n",
    "        for v in self.vertices():\n",
    "            if v not in seen:\n",
    "                component = set(self.dfs(v))\n",
    "                component.add(v)\n",
    "\n",
    "                seen.update(component)\n",
    "\n",
    "                yield component\n"
   ]
  },
  {
   "cell_type": "code",
   "execution_count": 8,
   "id": "86505948-0c1d-4cd6-9d9c-7582a5435d03",
   "metadata": {},
   "outputs": [],
   "source": [
    "graph = UndirectedGraph()"
   ]
  },
  {
   "cell_type": "markdown",
   "id": "e3c2ee36-fcb0-4c73-be65-da4f920118fa",
   "metadata": {},
   "source": [
    "## 3.1.1 Find Intersecting Polygons"
   ]
  },
  {
   "cell_type": "code",
   "execution_count": 9,
   "id": "b0f429d8-1843-4b7e-a04c-adec5115c420",
   "metadata": {},
   "outputs": [
    {
     "name": "stderr",
     "output_type": "stream",
     "text": [
      "100%|█████████████████████████████████████████████████████████████████████████████| 41536/41536 [08:13<00:00, 84.17it/s]\n"
     ]
    }
   ],
   "source": [
    "# Iterate through each footprint, find polygons if it intersects & add them as an edge in the Graph\n",
    "for i, polygon in enumerate(tqdm(footprints.geometry)):\n",
    "    try:\n",
    "        # Add a small buffer to the specific polygon\n",
    "        polygon = polygon.buffer(0.0025)\n",
    "        graph.add_edge(i, i)\n",
    "        nearest = w[i]\n",
    "        # Loop over its neighbouring polygons & check if they intersect with the polygon in picture, add it to the Graph\n",
    "        for t in nearest:\n",
    "            if polygon.intersects(footprints.geometry[t]):\n",
    "                graph.add_edge(i, t)\n",
    "    except Exception as error:\n",
    "        print(i, error)\n",
    "        continue\n",
    "\n",
    "components = list(graph.components())"
   ]
  },
  {
   "cell_type": "markdown",
   "id": "2bb87c47-7a5e-4b54-a4d7-1e36228d6c59",
   "metadata": {},
   "source": [
    "## 3.1.2 Merge Intersecting Polygons"
   ]
  },
  {
   "cell_type": "code",
   "execution_count": 10,
   "id": "c0f7fc01-b9bd-4629-baf7-d2758e69b6bc",
   "metadata": {},
   "outputs": [
    {
     "name": "stderr",
     "output_type": "stream",
     "text": [
      "100%|████████████████████████████████████████████████████████████████████████████| 23525/23525 [01:45<00:00, 223.45it/s]\n"
     ]
    }
   ],
   "source": [
    "features = []\n",
    "# Iterate through each node of the Graph, merge the neighbouring polygons as one & simplify the geometry by a tolerance factor, default 0.2\n",
    "for component in tqdm(components):\n",
    "    # If the # of neighbours is greater than one, do a union of the neighbouring polygons\n",
    "    if len(component) > 1:\n",
    "        merged = (shapely.ops.unary_union([footprints.geometry[v].buffer(.0025) for v in component])).buffer(-1 * 0.0025)\n",
    "    else:\n",
    "        merged = footprints.geometry[component.pop()].buffer(0)\n",
    "        \n",
    "    try:\n",
    "        if merged.is_valid:\n",
    "            # Orient exterior ring of the polygon in counter-clockwise direction.\n",
    "            if isinstance(merged, shapely.geometry.polygon.Polygon):\n",
    "                merged = shapely.geometry.polygon.orient(merged, sign=1.0)\n",
    "            elif isinstance(merged, shapely.geometry.multipolygon.MultiPolygon):\n",
    "                merged = [shapely.geometry.polygon.orient(geom, sign=1.0) for geom in merged.geoms]\n",
    "                merged = shapely.geometry.MultiPolygon(merged)\n",
    "            else:\n",
    "                print(\"Warning: merged feature is neither Polygon nor MultiPoylgon, skipping\", file=sys.stderr)\n",
    "                continue\n",
    "\n",
    "            # Simplify the polygons using Douglas Pecker Algorithm\n",
    "            merged = merged.simplify(tolerance=0.25, preserve_topology=True)\n",
    "            feature = geojson.Feature(geometry=shapely.geometry.mapping(merged))\n",
    "            features.append(feature)\n",
    "        else:\n",
    "            print(component, \"Warning: merged feature is not valid, skipping\", file=sys.stderr)\n",
    "    except Exception as error:\n",
    "        print(error)\n",
    "        continue\n"
   ]
  },
  {
   "cell_type": "markdown",
   "id": "2767ebec-3bae-4a6c-96eb-925850ba212b",
   "metadata": {},
   "source": [
    "# 3.2 Save Output"
   ]
  },
  {
   "cell_type": "code",
   "execution_count": 14,
   "id": "f9134ad8-934f-4199-87fa-4fa4e2ea3929",
   "metadata": {},
   "outputs": [
    {
     "data": {
      "text/plain": [
       "geojson.feature.FeatureCollection"
      ]
     },
     "execution_count": 14,
     "metadata": {},
     "output_type": "execute_result"
    }
   ],
   "source": [
    "type(collection)"
   ]
  },
  {
   "cell_type": "code",
   "execution_count": 16,
   "id": "ff60f810-6b58-4f18-863b-8e8f3b671a32",
   "metadata": {},
   "outputs": [
    {
     "data": {
      "text/plain": [
       "PosixPath('production/puri/modeloutput/simplified')"
      ]
     },
     "execution_count": 16,
     "metadata": {},
     "output_type": "execute_result"
    }
   ],
   "source": [
    "OUTPUT"
   ]
  },
  {
   "cell_type": "code",
   "execution_count": 19,
   "id": "d21add16-842a-419d-b339-d936680e7acd",
   "metadata": {},
   "outputs": [
    {
     "name": "stdout",
     "output_type": "stream",
     "text": [
      "Saving simplified output to production/puri/modeloutput/simplified/puri_simplified_footprints_from_model.geojson\n"
     ]
    }
   ],
   "source": [
    "# Create the GeoJSON file, add its UTM as CRS & save the file\n",
    "collection = geojson.FeatureCollection(features)\n",
    "collection.crs = {\n",
    "    \"type\": \"name\",\n",
    "    \"properties\": {\"name\": f\"epsg:{UTM}\"}\n",
    "}\n",
    "\n",
    "output_file = f'{OUTPUT}/{REGION}_simplified_footprints_from_model.geojson'\n",
    "print(f'Saving simplified output to {output_file}')\n",
    "with open(output_file, 'w') as file:\n",
    "    geojson.dump(collection, file)"
   ]
  },
  {
   "cell_type": "code",
   "execution_count": null,
   "id": "bc138114-21ab-4a43-b754-6312f69eac0d",
   "metadata": {},
   "outputs": [],
   "source": []
  },
  {
   "cell_type": "code",
   "execution_count": null,
   "id": "54255958-bc06-4619-b048-c858697b2087",
   "metadata": {},
   "outputs": [],
   "source": []
  }
 ],
 "metadata": {
  "kernelspec": {
   "display_name": "Python 3 (ipykernel)",
   "language": "python",
   "name": "python3"
  },
  "language_info": {
   "codemirror_mode": {
    "name": "ipython",
    "version": 3
   },
   "file_extension": ".py",
   "mimetype": "text/x-python",
   "name": "python",
   "nbconvert_exporter": "python",
   "pygments_lexer": "ipython3",
   "version": "3.8.13"
  }
 },
 "nbformat": 4,
 "nbformat_minor": 5
}
