{
 "cells": [
  {
   "cell_type": "code",
   "execution_count": 1,
   "id": "0e24749d-c4b9-4641-9024-ded634b11f87",
   "metadata": {
    "tags": [
     "parameters"
    ]
   },
   "outputs": [],
   "source": [
    "INPUTS = ['production/puri/input']\n",
    "OUTPUT = 'production/puri/tiles'\n",
    "REGION = 'puri'\n",
    "TILESIZE = 512"
   ]
  },
  {
   "cell_type": "code",
   "execution_count": 2,
   "id": "dcf173b9-4ff0-4905-89de-38fb3b9956c4",
   "metadata": {},
   "outputs": [],
   "source": [
    "import warnings\n",
    "warnings.filterwarnings('ignore')"
   ]
  },
  {
   "cell_type": "code",
   "execution_count": 3,
   "id": "2f92a561-b844-4961-bed9-392424eb3b0f",
   "metadata": {},
   "outputs": [],
   "source": [
    "import rasterio as rio\n",
    "from rasterio.warp import Resampling, calculate_default_transform\n",
    "from shapely.geometry import box\n",
    "import geopandas as gpd\n",
    "import numpy as np\n",
    "from pathlib import Path\n",
    "import os\n",
    "from tqdm import tqdm"
   ]
  },
  {
   "cell_type": "markdown",
   "id": "8c812845-600b-4f6b-a127-91609c994591",
   "metadata": {},
   "source": [
    "# 1.1 Create Tiles"
   ]
  },
  {
   "cell_type": "code",
   "execution_count": 4,
   "id": "225d0c4e-17fb-4638-8947-378705a9bee5",
   "metadata": {},
   "outputs": [
    {
     "name": "stdout",
     "output_type": "stream",
     "text": [
      "Starting tile creation\n"
     ]
    }
   ],
   "source": [
    "#Loop through each raster file present\n",
    "print('Starting tile creation')"
   ]
  },
  {
   "cell_type": "code",
   "execution_count": 5,
   "id": "51a5374b-d541-4801-8d61-303bf3ab7737",
   "metadata": {},
   "outputs": [],
   "source": [
    "#if tiles folder does not exist then create it\n",
    "os.makedirs(OUTPUT, exist_ok=True)\n",
    "\n",
    "INPUT = Path(INPUTS[0])\n",
    "OUTPUT = Path(OUTPUT)"
   ]
  },
  {
   "cell_type": "code",
   "execution_count": 6,
   "id": "18ed33a1-f75c-44a8-8150-4e1afc762391",
   "metadata": {},
   "outputs": [
    {
     "name": "stdout",
     "output_type": "stream",
     "text": [
      "Generating 18 tiles for puri1_R1C1 \n"
     ]
    },
    {
     "name": "stderr",
     "output_type": "stream",
     "text": [
      "100%|███████████████████████████████████████████████████████████████████████████████████| 18/18 [00:00<00:00, 24.05it/s]\n"
     ]
    },
    {
     "name": "stdout",
     "output_type": "stream",
     "text": [
      "Generating 72 tiles for puri2_R1C1 \n"
     ]
    },
    {
     "name": "stderr",
     "output_type": "stream",
     "text": [
      "100%|███████████████████████████████████████████████████████████████████████████████████| 72/72 [00:02<00:00, 26.71it/s]\n"
     ]
    },
    {
     "name": "stdout",
     "output_type": "stream",
     "text": [
      "Generating 18 tiles for puri3_R1C1 \n"
     ]
    },
    {
     "name": "stderr",
     "output_type": "stream",
     "text": [
      "100%|███████████████████████████████████████████████████████████████████████████████████| 18/18 [00:00<00:00, 26.40it/s]\n"
     ]
    },
    {
     "name": "stdout",
     "output_type": "stream",
     "text": [
      "Generating 72 tiles for puri4_R1C1 \n"
     ]
    },
    {
     "name": "stderr",
     "output_type": "stream",
     "text": [
      "100%|███████████████████████████████████████████████████████████████████████████████████| 72/72 [00:02<00:00, 24.08it/s]\n"
     ]
    }
   ],
   "source": [
    "for raster_file in INPUT.glob('*.tif'):\n",
    "    raster_file = str(raster_file)\n",
    "    raster_id = raster_file.split('/')[-1].replace('.tif', '')\n",
    "    with rio.open(raster_file, 'r') as raster:\n",
    "        geometry = box(*raster.bounds)\n",
    "        bounds = geometry.bounds\n",
    "\n",
    "        #Create bounds for each tiles by dividng the bigger bounds\n",
    "        xmin = bounds[0]\n",
    "        xmax = bounds[2]\n",
    "        ymin = bounds[1]\n",
    "        ymax = bounds[3]\n",
    "        x_extent = xmax - xmin\n",
    "        y_extent = ymax - ymin\n",
    "        tile_size = [TILESIZE * raster.transform[0], -TILESIZE * raster.transform[4]]\n",
    "        x_steps = np.ceil(x_extent / tile_size[1])\n",
    "        y_steps = np.ceil(y_extent / tile_size[0])\n",
    "        x_mins = np.arange(xmin, xmin + tile_size[1] * x_steps, tile_size[1])\n",
    "        y_mins = np.arange(ymin, ymin + tile_size[0] * y_steps, tile_size[0])\n",
    "        tile_bounds = [\n",
    "            (i, j, i + tile_size[1], j + tile_size[0])\n",
    "            for i in x_mins for j in y_mins if geometry.intersects(\n",
    "            box(*(i, j, i + tile_size[1], j + tile_size[0])))\n",
    "        ]\n",
    "\n",
    "        src_crs = raster.crs\n",
    "        dest_crs = src_crs\n",
    "\n",
    "        print(f'Generating {len(tile_bounds)} tiles for {raster_id} ')\n",
    "\n",
    "        for tb in tqdm(tile_bounds, total=len(tile_bounds)):\n",
    "            #window for each tile\n",
    "            window = rio.windows.from_bounds(*tb, transform=raster.transform, width=TILESIZE, height=TILESIZE)\n",
    "            window = window.round_lengths(op='ceil', pixel_precision=1)\n",
    "            tile = raster.read(\n",
    "                    window=window,\n",
    "                    indexes=list(range(1, raster.count + 1)),\n",
    "                    boundless=True,\n",
    "                    fill_value=raster.nodata)\n",
    "\n",
    "            dst_transform, width, height = calculate_default_transform(\n",
    "                                           src_crs, dest_crs,\n",
    "                                            raster.width, raster.height, *tb,\n",
    "                                            dst_height=TILESIZE,\n",
    "                                            dst_width=TILESIZE)\n",
    "            #update destination profile\n",
    "            profile = raster.profile\n",
    "            profile.update(width=TILESIZE,\n",
    "                           height=TILESIZE,\n",
    "                           crs=dest_crs,\n",
    "                           count=tile.shape[0],\n",
    "                           transform=dst_transform)\n",
    "\n",
    "            #save the tile to tiles folder\n",
    "            dest_file_name = f\"{raster_id}\"\n",
    "            dest_file_name += f\"_{np.round(profile['transform'][2], 3)}\"\n",
    "            dest_file_name += f\"_{np.round(profile['transform'][5], 3)}.tif\"\n",
    "            dest_path = str(OUTPUT/dest_file_name)\n",
    "            with rio.open(dest_path, 'w', **profile) as dest:\n",
    "                for band in range(1, profile['count'] + 1):\n",
    "                    dest.write(tile[band-1, :, :], band)"
   ]
  },
  {
   "cell_type": "code",
   "execution_count": null,
   "id": "ea5c94f5-3a61-4f23-8417-688fca2e3718",
   "metadata": {},
   "outputs": [],
   "source": []
  }
 ],
 "metadata": {
  "kernelspec": {
   "display_name": "Python 3 (ipykernel)",
   "language": "python",
   "name": "python3"
  },
  "language_info": {
   "codemirror_mode": {
    "name": "ipython",
    "version": 3
   },
   "file_extension": ".py",
   "mimetype": "text/x-python",
   "name": "python",
   "nbconvert_exporter": "python",
   "pygments_lexer": "ipython3",
   "version": "3.8.13"
  }
 },
 "nbformat": 4,
 "nbformat_minor": 5
}
